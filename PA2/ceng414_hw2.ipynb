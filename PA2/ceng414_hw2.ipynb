{
 "cells": [
  {
   "attachments": {},
   "cell_type": "markdown",
   "metadata": {},
   "source": [
    "# CENG414 Assignment 2\n",
    "\n",
    "### Due: May 7, Sunday-23.59\n",
    "\n",
    "### Submission and Grading Policy\n",
    "\n",
    "- Submit your assignments to the corresponding assignment link in ODTUClass.\n",
    "- Do not change variable names in the code blocks and the texts in the markdowns.\n",
    "- **<font color=#C91414>This is an individual assignment. Please do not collaborate. You have to adhere to the academic integrity principles.</font>** \n",
    "\n",
    "------------\n",
    "\n",
    "### The aim of this assignment is getting you familiar with\n",
    "- Python and Jupyter notebook\n",
    "- basic data transformations"
   ]
  },
  {
   "cell_type": "code",
   "execution_count": 1,
   "metadata": {},
   "outputs": [],
   "source": [
    "import pandas as pd\n",
    "import numpy as np\n",
    "# If you need another library or packages, you may insert them too."
   ]
  },
  {
   "attachments": {},
   "cell_type": "markdown",
   "metadata": {},
   "source": [
    "**1. Upload the data as a pandas dataframe and show the first three rows.**"
   ]
  },
  {
   "cell_type": "code",
   "execution_count": 2,
   "metadata": {},
   "outputs": [
    {
     "name": "stdout",
     "output_type": "stream",
     "text": [
      "First 3 rows of the DataFrame:\n",
      "   index  Age     Sex  Job Housing Saving accounts Checking account   \n",
      "0      0   67    male    2     own             NaN           little  \\\n",
      "1      1   22  female    2     own          little         moderate   \n",
      "2      2   49    male    1     own          little              NaN   \n",
      "\n",
      "   Credit amount  Duration    Purpose  Risk  \n",
      "0           1169         6   radio/TV  good  \n",
      "1           5951        48   radio/TV   bad  \n",
      "2           2096        12  education  good  \n"
     ]
    }
   ],
   "source": [
    "### answer ###\n",
    "colNames = [\"index\",\"Age\",\"Sex\",\"Job\",\"Housing\",\"Saving accounts\",\"Checking account\",\"Credit amount\",\"Duration\",\"Purpose\",\"Risk\"]\n",
    "df = pd.read_csv(\"C:/Users/90546/Desktop/Ceng414/THE2/german_credit_risk.csv\", sep=\",\", names=colNames, skiprows=[0])\n",
    "result = df.head(3)\n",
    "print(\"First 3 rows of the DataFrame:\")\n",
    "print(result)"
   ]
  },
  {
   "attachments": {},
   "cell_type": "markdown",
   "metadata": {},
   "source": [
    "**2. How many features and observations are there in the data set (rows x columns)?**"
   ]
  },
  {
   "cell_type": "code",
   "execution_count": 6,
   "metadata": {},
   "outputs": [
    {
     "name": "stdout",
     "output_type": "stream",
     "text": [
      "Row count(observations) is 1000 and Column count(features) is 11.\n",
      "Shape is (1000, 11)\n"
     ]
    }
   ],
   "source": [
    "### answer ###\n",
    "observations = df.shape[0]\n",
    "featureCount = df.shape[1]\n",
    "print(\"Row count(observations) is {} and Column count(features) is {}.\".format(observations,featureCount))\n",
    "print(\"Shape is {}\".format(df.shape))"
   ]
  },
  {
   "attachments": {},
   "cell_type": "markdown",
   "metadata": {},
   "source": [
    "Notice that some data points are missing. For example, see the value of the \"Saving accounts\" by typing **print(df.iloc[0])**    \n",
    "**3. Find and print the number of missing values in each column**"
   ]
  },
  {
   "cell_type": "code",
   "execution_count": 7,
   "metadata": {},
   "outputs": [
    {
     "name": "stdout",
     "output_type": "stream",
     "text": [
      "index                      0\n",
      "Age                       67\n",
      "Sex                     male\n",
      "Job                        2\n",
      "Housing                  own\n",
      "Saving accounts          NaN\n",
      "Checking account      little\n",
      "Credit amount           1169\n",
      "Duration                   6\n",
      "Purpose             radio/TV\n",
      "Risk                    good\n",
      "Name: 0, dtype: object\n",
      "index column has 0 missing values\n",
      "Age column has 0 missing values\n",
      "Sex column has 0 missing values\n",
      "Job column has 0 missing values\n",
      "Housing column has 0 missing values\n",
      "Saving accounts column has 183 missing values\n",
      "Checking account column has 394 missing values\n",
      "Credit amount column has 0 missing values\n",
      "Duration column has 0 missing values\n",
      "Purpose column has 0 missing values\n",
      "Risk column has 0 missing values\n"
     ]
    }
   ],
   "source": [
    "print(df.iloc[0])\n",
    "### answer ###\n",
    "i = 0\n",
    "\n",
    "for name in colNames:\n",
    "    missingValuesNumber = df[name].isnull().sum()\n",
    "    print(\"{} column has {} missing values\".format(name,missingValuesNumber))\n",
    "\n",
    "\n"
   ]
  },
  {
   "attachments": {},
   "cell_type": "markdown",
   "metadata": {},
   "source": [
    "**4. Drop the columns which have more than %20 missing value rate.**"
   ]
  },
  {
   "cell_type": "code",
   "execution_count": 8,
   "metadata": {},
   "outputs": [],
   "source": [
    "### answer ###\n",
    "\n",
    "for name in colNames:\n",
    "    rate = float(df[name].isnull().sum())/float(observations)\n",
    "    if (rate > (20./100.)):\n",
    "        #print(\"I dropped {} with rate {}\".format(name,(float(df[name].isnull().sum())/float(observations))))\n",
    "        df = df.drop(name, axis=1)\n",
    "        "
   ]
  },
  {
   "attachments": {},
   "cell_type": "markdown",
   "metadata": {},
   "source": [
    "**5. Create a dataframe named credit_wo_na by dropping the rows which have missing values.  \n",
    "What is the shape (rows x columns) of newly created data frame \"credit_wo_na\"?**   \n",
    "Please do the rest of the assignment with data_wo_na."
   ]
  },
  {
   "cell_type": "code",
   "execution_count": 9,
   "metadata": {},
   "outputs": [
    {
     "name": "stdout",
     "output_type": "stream",
     "text": [
      "Shape of credit_wo_na is (817, 10)\n"
     ]
    }
   ],
   "source": [
    "### answer ###\n",
    "credit_wo_na = df.dropna()\n",
    "print(\"Shape of credit_wo_na is {}\".format(credit_wo_na.shape))\n"
   ]
  },
  {
   "attachments": {},
   "cell_type": "markdown",
   "metadata": {},
   "source": [
    "**6. Create a csv file named \"credit_wo_na.csv\" using the newly created data frame \"credit_wo_na\"?**   \n",
    "Please do the rest of the assignment with credit_wo_na."
   ]
  },
  {
   "cell_type": "code",
   "execution_count": 49,
   "metadata": {},
   "outputs": [],
   "source": [
    "### answer ###\n",
    "credit_wo_na.to_csv('credit_wo_na.csv', index=False)"
   ]
  }
 ],
 "metadata": {
  "kernelspec": {
   "display_name": "Python 3",
   "language": "python",
   "name": "python3"
  },
  "language_info": {
   "codemirror_mode": {
    "name": "ipython",
    "version": 3
   },
   "file_extension": ".py",
   "mimetype": "text/x-python",
   "name": "python",
   "nbconvert_exporter": "python",
   "pygments_lexer": "ipython3",
   "version": "3.11.0"
  },
  "vscode": {
   "interpreter": {
    "hash": "88e6d1884408d11628b48427b915666d476e5d25e940b2a06f474591a7dd5711"
   }
  }
 },
 "nbformat": 4,
 "nbformat_minor": 4
}
